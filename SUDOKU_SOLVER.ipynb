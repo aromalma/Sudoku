{
 "cells": [
  {
   "cell_type": "markdown",
   "metadata": {},
   "source": [
    "# Sudoku"
   ]
  },
  {
   "cell_type": "code",
   "execution_count": 4,
   "metadata": {},
   "outputs": [
    {
     "data": {
      "text/plain": [
       "array([[1, 7, 9, 2, 8, 5, 3, 4, 6],\n",
       "       [3, 2, 4, 1, 7, 6, 9, 5, 8],\n",
       "       [5, 8, 6, 3, 4, 9, 7, 2, 1],\n",
       "       [6, 3, 2, 4, 9, 1, 8, 7, 5],\n",
       "       [9, 1, 8, 7, 5, 3, 4, 6, 2],\n",
       "       [4, 5, 7, 8, 6, 2, 1, 9, 3],\n",
       "       [8, 6, 5, 9, 1, 4, 2, 3, 7],\n",
       "       [2, 4, 1, 5, 3, 7, 6, 8, 9],\n",
       "       [7, 9, 3, 6, 2, 8, 5, 1, 4]])"
      ]
     },
     "execution_count": 4,
     "metadata": {},
     "output_type": "execute_result"
    }
   ],
   "source": [
    "import numpy as np\n",
    "import pandas as pd\n",
    "\n",
    "def rep(d):\n",
    "    _,r=np.unique(d,return_counts=1)\n",
    "    if _[0]==0:\n",
    "        r=r[1:]\n",
    "    if (r==1).all():\n",
    "        return True\n",
    "    return False\n",
    "a=np.array(pd.read_csv('sudoku.csv',header=None))\n",
    "def find(a,x,y):\n",
    "\n",
    "    i=x\n",
    "    j=y\n",
    "    while True:\n",
    "        if a[x][y]==0:\n",
    "            for u in range(1,10):\n",
    "                a[x][y]=u\n",
    "                xx=3*(x//3)\n",
    "                yy=3*(y//3)\n",
    "\n",
    "                if rep(a[x]) & rep(a[:,y]) & rep(a[xx:xx+3,yy:yy+3]): # pruning\n",
    "                    if x==8 and y==8:\n",
    "                        return 1\n",
    "                    if y==8:\n",
    "                        if find(a,x+1,0):\n",
    "                            return 1\n",
    "                    else:\n",
    "                        if find(a,x,y+1):\n",
    "                            return 1\n",
    "                a[x][y]=0\n",
    "            return 0\n",
    "        if y==8:\n",
    "            x=x+1\n",
    "            y=0\n",
    "        else:\n",
    "            y=y+1\n",
    "        if x==8 and y==8:\n",
    "            return 1\n",
    "            \n",
    "                                \n",
    "                                  \n",
    "        \n",
    "find(a,0,0)  \n",
    "pd.DataFrame(a).to_csv('sudoku_solved.csv',header=None,index=None)\n",
    "a"
   ]
  },
  {
   "cell_type": "code",
   "execution_count": null,
   "metadata": {},
   "outputs": [],
   "source": []
  },
  {
   "cell_type": "code",
   "execution_count": null,
   "metadata": {},
   "outputs": [],
   "source": []
  },
  {
   "cell_type": "code",
   "execution_count": null,
   "metadata": {
    "scrolled": true
   },
   "outputs": [],
   "source": []
  },
  {
   "cell_type": "code",
   "execution_count": null,
   "metadata": {},
   "outputs": [],
   "source": []
  },
  {
   "cell_type": "code",
   "execution_count": null,
   "metadata": {},
   "outputs": [],
   "source": []
  },
  {
   "cell_type": "code",
   "execution_count": null,
   "metadata": {},
   "outputs": [],
   "source": []
  },
  {
   "cell_type": "code",
   "execution_count": null,
   "metadata": {},
   "outputs": [],
   "source": []
  },
  {
   "cell_type": "code",
   "execution_count": null,
   "metadata": {},
   "outputs": [],
   "source": []
  }
 ],
 "metadata": {
  "kernelspec": {
   "display_name": "Python 3",
   "language": "python",
   "name": "python3"
  },
  "language_info": {
   "codemirror_mode": {
    "name": "ipython",
    "version": 3
   },
   "file_extension": ".py",
   "mimetype": "text/x-python",
   "name": "python",
   "nbconvert_exporter": "python",
   "pygments_lexer": "ipython3",
   "version": "3.6.9"
  }
 },
 "nbformat": 4,
 "nbformat_minor": 5
}
