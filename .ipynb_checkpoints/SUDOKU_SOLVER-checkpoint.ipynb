{
 "cells": [
  {
   "cell_type": "code",
   "execution_count": 3,
   "metadata": {},
   "outputs": [],
   "source": []
  },
  {
   "cell_type": "code",
   "execution_count": 4,
   "metadata": {},
   "outputs": [],
   "source": []
  },
  {
   "cell_type": "code",
   "execution_count": 2,
   "metadata": {},
   "outputs": [
    {
     "ename": "IndentationError",
     "evalue": "unindent does not match any outer indentation level (<tokenize>, line 27)",
     "output_type": "error",
     "traceback": [
      "\u001b[0;36m  File \u001b[0;32m\"<tokenize>\"\u001b[0;36m, line \u001b[0;32m27\u001b[0m\n\u001b[0;31m    if y==8:\u001b[0m\n\u001b[0m    ^\u001b[0m\n\u001b[0;31mIndentationError\u001b[0m\u001b[0;31m:\u001b[0m unindent does not match any outer indentation level\n"
     ]
    }
   ],
   "source": [
    "import numpy as np\n",
    "import pandas as pd\n",
    "import cv2\n",
    "\n",
    "def rep(d):\n",
    "    _,r=np.unique(d,return_counts=1)\n",
    "    if _[0]==0:\n",
    "        r=r[1:]\n",
    "    if (r==1).all():\n",
    "        return True\n",
    "    return False\n",
    "a=np.array(pd.read_csv('sudoku.csv',header=None))\n",
    "def find(a,x,y):\n",
    "\n",
    "    i=x\n",
    "    j=y\n",
    "    while True:\n",
    "        if a[x][y]==0:\n",
    "            for u in range(1,10):\n",
    "                a[x][y]=u\n",
    "                xx=3*(x//3)\n",
    "                yy=3*(y//3)\n",
    "\n",
    "                if rep(a[x]) & rep(a[:,y]) & rep(a[xx:xx+3,yy:yy+3]): # pruning\n",
    "                    if x==8 and y==8:\n",
    "                        return 1\n",
    "                    if y==8:\n",
    "                        if find(a,x+1,0):\n",
    "                            return 1\n",
    "                    else:\n",
    "                        if find(a,x,y+1):\n",
    "                            return 1\n",
    "                a[x][y]=0\n",
    "            return 0\n",
    "        if y==8:\n",
    "            x=x+1\n",
    "            y=0\n",
    "        else:\n",
    "            y=y+1\n",
    "        if x==8 and y==8:\n",
    "            return 1\n",
    "            \n",
    "                                \n",
    "                                  \n",
    "        \n",
    "find(a,0,0)  \n",
    "pd.DataFrame(a).to_csv('sudoku_solved.csv',header=None,index=None)\n",
    "a"
   ]
  },
  {
   "cell_type": "code",
   "execution_count": null,
   "metadata": {},
   "outputs": [],
   "source": []
  },
  {
   "cell_type": "code",
   "execution_count": null,
   "metadata": {},
   "outputs": [],
   "source": []
  },
  {
   "cell_type": "code",
   "execution_count": null,
   "metadata": {
    "scrolled": true
   },
   "outputs": [],
   "source": []
  },
  {
   "cell_type": "code",
   "execution_count": null,
   "metadata": {},
   "outputs": [],
   "source": []
  },
  {
   "cell_type": "code",
   "execution_count": null,
   "metadata": {},
   "outputs": [],
   "source": []
  },
  {
   "cell_type": "code",
   "execution_count": null,
   "metadata": {},
   "outputs": [],
   "source": []
  },
  {
   "cell_type": "code",
   "execution_count": null,
   "metadata": {},
   "outputs": [],
   "source": []
  },
  {
   "cell_type": "code",
   "execution_count": null,
   "metadata": {},
   "outputs": [],
   "source": []
  }
 ],
 "metadata": {
  "kernelspec": {
   "display_name": "Python 3",
   "language": "python",
   "name": "python3"
  },
  "language_info": {
   "codemirror_mode": {
    "name": "ipython",
    "version": 3
   },
   "file_extension": ".py",
   "mimetype": "text/x-python",
   "name": "python",
   "nbconvert_exporter": "python",
   "pygments_lexer": "ipython3",
   "version": "3.6.9"
  }
 },
 "nbformat": 4,
 "nbformat_minor": 5
}
